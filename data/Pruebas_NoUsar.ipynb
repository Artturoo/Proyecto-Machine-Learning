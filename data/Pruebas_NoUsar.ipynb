{
 "cells": [
  {
   "cell_type": "code",
   "execution_count": 1,
   "id": "63140883",
   "metadata": {},
   "outputs": [],
   "source": [
    "import pandas as pd"
   ]
  },
  {
   "cell_type": "code",
   "execution_count": 2,
   "id": "4c0a7948",
   "metadata": {},
   "outputs": [
    {
     "name": "stdout",
     "output_type": "stream",
     "text": [
      "<class 'pandas.core.frame.DataFrame'>\n",
      "RangeIndex: 107 entries, 0 to 106\n",
      "Data columns (total 2 columns):\n",
      " #   Column         Non-Null Count  Dtype\n",
      "---  ------         --------------  -----\n",
      " 0   id             107 non-null    int64\n",
      " 1   salary_in_usd  107 non-null    int64\n",
      "dtypes: int64(2)\n",
      "memory usage: 1.8 KB\n"
     ]
    }
   ],
   "source": [
    "muestra=pd.read_csv('../data/muestra.csv')\n",
    "\n",
    "muestra.info()"
   ]
  },
  {
   "cell_type": "code",
   "execution_count": 3,
   "id": "08c20676",
   "metadata": {},
   "outputs": [
    {
     "name": "stdout",
     "output_type": "stream",
     "text": [
      "<class 'pandas.core.frame.DataFrame'>\n",
      "RangeIndex: 107 entries, 0 to 106\n",
      "Data columns (total 10 columns):\n",
      " #   Column              Non-Null Count  Dtype \n",
      "---  ------              --------------  ----- \n",
      " 0   work_year           107 non-null    int64 \n",
      " 1   experience_level    107 non-null    object\n",
      " 2   employment_type     107 non-null    object\n",
      " 3   job_title           107 non-null    object\n",
      " 4   salary              107 non-null    int64 \n",
      " 5   salary_currency     107 non-null    object\n",
      " 6   employee_residence  107 non-null    object\n",
      " 7   remote_ratio        107 non-null    int64 \n",
      " 8   company_location    107 non-null    object\n",
      " 9   company_size        107 non-null    object\n",
      "dtypes: int64(3), object(7)\n",
      "memory usage: 8.5+ KB\n"
     ]
    }
   ],
   "source": [
    "testeo=pd.read_csv('../data/testeo.csv')\n",
    "\n",
    "testeo.info()"
   ]
  },
  {
   "cell_type": "code",
   "execution_count": 4,
   "id": "50e3e5ab",
   "metadata": {},
   "outputs": [
    {
     "name": "stdout",
     "output_type": "stream",
     "text": [
      "<class 'pandas.core.frame.DataFrame'>\n",
      "RangeIndex: 500 entries, 0 to 499\n",
      "Data columns (total 11 columns):\n",
      " #   Column              Non-Null Count  Dtype \n",
      "---  ------              --------------  ----- \n",
      " 0   work_year           500 non-null    int64 \n",
      " 1   experience_level    500 non-null    object\n",
      " 2   employment_type     500 non-null    object\n",
      " 3   job_title           500 non-null    object\n",
      " 4   salary              500 non-null    int64 \n",
      " 5   salary_currency     500 non-null    object\n",
      " 6   salary_in_usd       500 non-null    int64 \n",
      " 7   employee_residence  500 non-null    object\n",
      " 8   remote_ratio        500 non-null    int64 \n",
      " 9   company_location    500 non-null    object\n",
      " 10  company_size        500 non-null    object\n",
      "dtypes: int64(4), object(7)\n",
      "memory usage: 43.1+ KB\n"
     ]
    }
   ],
   "source": [
    "salary=pd.read_csv('../data/salaries_data.csv')\n",
    "\n",
    "salary.info()"
   ]
  },
  {
   "cell_type": "code",
   "execution_count": 5,
   "id": "acb0e62a",
   "metadata": {},
   "outputs": [],
   "source": [
    "pd.set_option('display.max_columns', None)"
   ]
  },
  {
   "cell_type": "code",
   "execution_count": 6,
   "id": "88f7a74b",
   "metadata": {},
   "outputs": [],
   "source": [
    "pd.set_option('display.max_rows', None)"
   ]
  },
  {
   "cell_type": "code",
   "execution_count": 7,
   "id": "bb9d86c0",
   "metadata": {},
   "outputs": [
    {
     "data": {
      "text/plain": [
       "array(['SE', 'MI', 'EN', 'EX'], dtype=object)"
      ]
     },
     "execution_count": 7,
     "metadata": {},
     "output_type": "execute_result"
    }
   ],
   "source": [
    "salary.experience_level.unique()"
   ]
  },
  {
   "cell_type": "code",
   "execution_count": 8,
   "id": "adbcb664",
   "metadata": {},
   "outputs": [
    {
     "data": {
      "text/html": [
       "<div>\n",
       "<style scoped>\n",
       "    .dataframe tbody tr th:only-of-type {\n",
       "        vertical-align: middle;\n",
       "    }\n",
       "\n",
       "    .dataframe tbody tr th {\n",
       "        vertical-align: top;\n",
       "    }\n",
       "\n",
       "    .dataframe thead th {\n",
       "        text-align: right;\n",
       "    }\n",
       "</style>\n",
       "<table border=\"1\" class=\"dataframe\">\n",
       "  <thead>\n",
       "    <tr style=\"text-align: right;\">\n",
       "      <th></th>\n",
       "      <th>work_year</th>\n",
       "      <th>experience_level</th>\n",
       "      <th>employment_type</th>\n",
       "      <th>job_title</th>\n",
       "      <th>salary</th>\n",
       "      <th>salary_currency</th>\n",
       "      <th>salary_in_usd</th>\n",
       "      <th>employee_residence</th>\n",
       "      <th>remote_ratio</th>\n",
       "      <th>company_location</th>\n",
       "      <th>company_size</th>\n",
       "    </tr>\n",
       "  </thead>\n",
       "  <tbody>\n",
       "    <tr>\n",
       "      <th>0</th>\n",
       "      <td>2022</td>\n",
       "      <td>2</td>\n",
       "      <td>FT</td>\n",
       "      <td>Data Engineer</td>\n",
       "      <td>140250</td>\n",
       "      <td>USD</td>\n",
       "      <td>140250</td>\n",
       "      <td>US</td>\n",
       "      <td>100</td>\n",
       "      <td>US</td>\n",
       "      <td>M</td>\n",
       "    </tr>\n",
       "    <tr>\n",
       "      <th>1</th>\n",
       "      <td>2022</td>\n",
       "      <td>2</td>\n",
       "      <td>FT</td>\n",
       "      <td>Data Engineer</td>\n",
       "      <td>135000</td>\n",
       "      <td>USD</td>\n",
       "      <td>135000</td>\n",
       "      <td>US</td>\n",
       "      <td>100</td>\n",
       "      <td>US</td>\n",
       "      <td>M</td>\n",
       "    </tr>\n",
       "    <tr>\n",
       "      <th>2</th>\n",
       "      <td>2021</td>\n",
       "      <td>1</td>\n",
       "      <td>FT</td>\n",
       "      <td>BI Data Analyst</td>\n",
       "      <td>100000</td>\n",
       "      <td>USD</td>\n",
       "      <td>100000</td>\n",
       "      <td>US</td>\n",
       "      <td>100</td>\n",
       "      <td>US</td>\n",
       "      <td>M</td>\n",
       "    </tr>\n",
       "    <tr>\n",
       "      <th>3</th>\n",
       "      <td>2021</td>\n",
       "      <td>1</td>\n",
       "      <td>CT</td>\n",
       "      <td>ML Engineer</td>\n",
       "      <td>270000</td>\n",
       "      <td>USD</td>\n",
       "      <td>270000</td>\n",
       "      <td>US</td>\n",
       "      <td>100</td>\n",
       "      <td>US</td>\n",
       "      <td>L</td>\n",
       "    </tr>\n",
       "    <tr>\n",
       "      <th>4</th>\n",
       "      <td>2021</td>\n",
       "      <td>1</td>\n",
       "      <td>FT</td>\n",
       "      <td>Data Engineer</td>\n",
       "      <td>22000</td>\n",
       "      <td>EUR</td>\n",
       "      <td>26005</td>\n",
       "      <td>RO</td>\n",
       "      <td>0</td>\n",
       "      <td>US</td>\n",
       "      <td>L</td>\n",
       "    </tr>\n",
       "  </tbody>\n",
       "</table>\n",
       "</div>"
      ],
      "text/plain": [
       "   work_year  experience_level employment_type        job_title  salary  \\\n",
       "0       2022                 2              FT    Data Engineer  140250   \n",
       "1       2022                 2              FT    Data Engineer  135000   \n",
       "2       2021                 1              FT  BI Data Analyst  100000   \n",
       "3       2021                 1              CT      ML Engineer  270000   \n",
       "4       2021                 1              FT    Data Engineer   22000   \n",
       "\n",
       "  salary_currency  salary_in_usd employee_residence  remote_ratio  \\\n",
       "0             USD         140250                 US           100   \n",
       "1             USD         135000                 US           100   \n",
       "2             USD         100000                 US           100   \n",
       "3             USD         270000                 US           100   \n",
       "4             EUR          26005                 RO             0   \n",
       "\n",
       "  company_location company_size  \n",
       "0               US            M  \n",
       "1               US            M  \n",
       "2               US            M  \n",
       "3               US            L  \n",
       "4               US            L  "
      ]
     },
     "execution_count": 8,
     "metadata": {},
     "output_type": "execute_result"
    }
   ],
   "source": [
    "\n",
    "experience_level={'SE': 2, 'MI': 1, 'EN': 0, 'EX':3}\n",
    "\n",
    "def cambio_exp(x):   \n",
    "    return experience_level[x]\n",
    "\n",
    "salary.experience_level=salary.experience_level.apply(lambda x: experience_level[x])\n",
    "\n",
    "salary.head()"
   ]
  },
  {
   "cell_type": "code",
   "execution_count": 9,
   "id": "6e299497",
   "metadata": {},
   "outputs": [
    {
     "data": {
      "text/html": [
       "<div>\n",
       "<style scoped>\n",
       "    .dataframe tbody tr th:only-of-type {\n",
       "        vertical-align: middle;\n",
       "    }\n",
       "\n",
       "    .dataframe tbody tr th {\n",
       "        vertical-align: top;\n",
       "    }\n",
       "\n",
       "    .dataframe thead th {\n",
       "        text-align: right;\n",
       "    }\n",
       "</style>\n",
       "<table border=\"1\" class=\"dataframe\">\n",
       "  <thead>\n",
       "    <tr style=\"text-align: right;\">\n",
       "      <th></th>\n",
       "      <th>work_year</th>\n",
       "      <th>experience_level</th>\n",
       "      <th>employment_type</th>\n",
       "      <th>job_title</th>\n",
       "      <th>salary</th>\n",
       "      <th>salary_currency</th>\n",
       "      <th>employee_residence</th>\n",
       "      <th>remote_ratio</th>\n",
       "      <th>company_location</th>\n",
       "      <th>company_size</th>\n",
       "    </tr>\n",
       "  </thead>\n",
       "  <tbody>\n",
       "    <tr>\n",
       "      <th>0</th>\n",
       "      <td>2020</td>\n",
       "      <td>2</td>\n",
       "      <td>FT</td>\n",
       "      <td>Machine Learning Scientist</td>\n",
       "      <td>260000</td>\n",
       "      <td>USD</td>\n",
       "      <td>JP</td>\n",
       "      <td>0</td>\n",
       "      <td>JP</td>\n",
       "      <td>S</td>\n",
       "    </tr>\n",
       "    <tr>\n",
       "      <th>1</th>\n",
       "      <td>2020</td>\n",
       "      <td>1</td>\n",
       "      <td>FT</td>\n",
       "      <td>Lead Data Analyst</td>\n",
       "      <td>87000</td>\n",
       "      <td>USD</td>\n",
       "      <td>US</td>\n",
       "      <td>100</td>\n",
       "      <td>US</td>\n",
       "      <td>L</td>\n",
       "    </tr>\n",
       "    <tr>\n",
       "      <th>2</th>\n",
       "      <td>2020</td>\n",
       "      <td>1</td>\n",
       "      <td>FT</td>\n",
       "      <td>Data Analyst</td>\n",
       "      <td>85000</td>\n",
       "      <td>USD</td>\n",
       "      <td>US</td>\n",
       "      <td>100</td>\n",
       "      <td>US</td>\n",
       "      <td>L</td>\n",
       "    </tr>\n",
       "    <tr>\n",
       "      <th>3</th>\n",
       "      <td>2020</td>\n",
       "      <td>1</td>\n",
       "      <td>FT</td>\n",
       "      <td>Machine Learning Engineer</td>\n",
       "      <td>299000</td>\n",
       "      <td>CNY</td>\n",
       "      <td>CN</td>\n",
       "      <td>0</td>\n",
       "      <td>CN</td>\n",
       "      <td>M</td>\n",
       "    </tr>\n",
       "    <tr>\n",
       "      <th>4</th>\n",
       "      <td>2020</td>\n",
       "      <td>1</td>\n",
       "      <td>FT</td>\n",
       "      <td>Product Data Analyst</td>\n",
       "      <td>450000</td>\n",
       "      <td>INR</td>\n",
       "      <td>IN</td>\n",
       "      <td>100</td>\n",
       "      <td>IN</td>\n",
       "      <td>L</td>\n",
       "    </tr>\n",
       "  </tbody>\n",
       "</table>\n",
       "</div>"
      ],
      "text/plain": [
       "   work_year  experience_level employment_type                   job_title  \\\n",
       "0       2020                 2              FT  Machine Learning Scientist   \n",
       "1       2020                 1              FT           Lead Data Analyst   \n",
       "2       2020                 1              FT                Data Analyst   \n",
       "3       2020                 1              FT   Machine Learning Engineer   \n",
       "4       2020                 1              FT        Product Data Analyst   \n",
       "\n",
       "   salary salary_currency employee_residence  remote_ratio company_location  \\\n",
       "0  260000             USD                 JP             0               JP   \n",
       "1   87000             USD                 US           100               US   \n",
       "2   85000             USD                 US           100               US   \n",
       "3  299000             CNY                 CN             0               CN   \n",
       "4  450000             INR                 IN           100               IN   \n",
       "\n",
       "  company_size  \n",
       "0            S  \n",
       "1            L  \n",
       "2            L  \n",
       "3            M  \n",
       "4            L  "
      ]
     },
     "execution_count": 9,
     "metadata": {},
     "output_type": "execute_result"
    }
   ],
   "source": [
    "testeo.experience_level=testeo.experience_level.apply(lambda x: experience_level[x])\n",
    "\n",
    "testeo.head()"
   ]
  },
  {
   "cell_type": "code",
   "execution_count": 10,
   "id": "45662880",
   "metadata": {},
   "outputs": [
    {
     "data": {
      "text/plain": [
       "array(['FT', 'CT', 'FL', 'PT'], dtype=object)"
      ]
     },
     "execution_count": 10,
     "metadata": {},
     "output_type": "execute_result"
    }
   ],
   "source": [
    "salary.employment_type.unique()"
   ]
  },
  {
   "cell_type": "code",
   "execution_count": 11,
   "id": "981dec98",
   "metadata": {},
   "outputs": [
    {
     "data": {
      "text/html": [
       "<div>\n",
       "<style scoped>\n",
       "    .dataframe tbody tr th:only-of-type {\n",
       "        vertical-align: middle;\n",
       "    }\n",
       "\n",
       "    .dataframe tbody tr th {\n",
       "        vertical-align: top;\n",
       "    }\n",
       "\n",
       "    .dataframe thead th {\n",
       "        text-align: right;\n",
       "    }\n",
       "</style>\n",
       "<table border=\"1\" class=\"dataframe\">\n",
       "  <thead>\n",
       "    <tr style=\"text-align: right;\">\n",
       "      <th></th>\n",
       "      <th>work_year</th>\n",
       "      <th>experience_level</th>\n",
       "      <th>employment_type</th>\n",
       "      <th>job_title</th>\n",
       "      <th>salary</th>\n",
       "      <th>salary_currency</th>\n",
       "      <th>salary_in_usd</th>\n",
       "      <th>employee_residence</th>\n",
       "      <th>remote_ratio</th>\n",
       "      <th>company_location</th>\n",
       "      <th>company_size</th>\n",
       "    </tr>\n",
       "  </thead>\n",
       "  <tbody>\n",
       "    <tr>\n",
       "      <th>0</th>\n",
       "      <td>2022</td>\n",
       "      <td>2</td>\n",
       "      <td>3</td>\n",
       "      <td>Data Engineer</td>\n",
       "      <td>140250</td>\n",
       "      <td>USD</td>\n",
       "      <td>140250</td>\n",
       "      <td>US</td>\n",
       "      <td>100</td>\n",
       "      <td>US</td>\n",
       "      <td>M</td>\n",
       "    </tr>\n",
       "    <tr>\n",
       "      <th>1</th>\n",
       "      <td>2022</td>\n",
       "      <td>2</td>\n",
       "      <td>3</td>\n",
       "      <td>Data Engineer</td>\n",
       "      <td>135000</td>\n",
       "      <td>USD</td>\n",
       "      <td>135000</td>\n",
       "      <td>US</td>\n",
       "      <td>100</td>\n",
       "      <td>US</td>\n",
       "      <td>M</td>\n",
       "    </tr>\n",
       "    <tr>\n",
       "      <th>2</th>\n",
       "      <td>2021</td>\n",
       "      <td>1</td>\n",
       "      <td>3</td>\n",
       "      <td>BI Data Analyst</td>\n",
       "      <td>100000</td>\n",
       "      <td>USD</td>\n",
       "      <td>100000</td>\n",
       "      <td>US</td>\n",
       "      <td>100</td>\n",
       "      <td>US</td>\n",
       "      <td>M</td>\n",
       "    </tr>\n",
       "    <tr>\n",
       "      <th>3</th>\n",
       "      <td>2021</td>\n",
       "      <td>1</td>\n",
       "      <td>1</td>\n",
       "      <td>ML Engineer</td>\n",
       "      <td>270000</td>\n",
       "      <td>USD</td>\n",
       "      <td>270000</td>\n",
       "      <td>US</td>\n",
       "      <td>100</td>\n",
       "      <td>US</td>\n",
       "      <td>L</td>\n",
       "    </tr>\n",
       "    <tr>\n",
       "      <th>4</th>\n",
       "      <td>2021</td>\n",
       "      <td>1</td>\n",
       "      <td>3</td>\n",
       "      <td>Data Engineer</td>\n",
       "      <td>22000</td>\n",
       "      <td>EUR</td>\n",
       "      <td>26005</td>\n",
       "      <td>RO</td>\n",
       "      <td>0</td>\n",
       "      <td>US</td>\n",
       "      <td>L</td>\n",
       "    </tr>\n",
       "  </tbody>\n",
       "</table>\n",
       "</div>"
      ],
      "text/plain": [
       "   work_year  experience_level  employment_type        job_title  salary  \\\n",
       "0       2022                 2                3    Data Engineer  140250   \n",
       "1       2022                 2                3    Data Engineer  135000   \n",
       "2       2021                 1                3  BI Data Analyst  100000   \n",
       "3       2021                 1                1      ML Engineer  270000   \n",
       "4       2021                 1                3    Data Engineer   22000   \n",
       "\n",
       "  salary_currency  salary_in_usd employee_residence  remote_ratio  \\\n",
       "0             USD         140250                 US           100   \n",
       "1             USD         135000                 US           100   \n",
       "2             USD         100000                 US           100   \n",
       "3             USD         270000                 US           100   \n",
       "4             EUR          26005                 RO             0   \n",
       "\n",
       "  company_location company_size  \n",
       "0               US            M  \n",
       "1               US            M  \n",
       "2               US            M  \n",
       "3               US            L  \n",
       "4               US            L  "
      ]
     },
     "execution_count": 11,
     "metadata": {},
     "output_type": "execute_result"
    }
   ],
   "source": [
    "employment_type={'FT': 3, 'CT': 1, 'FL': 0, 'PT':2}\n",
    "\n",
    "def cambio_exp(x):   \n",
    "    return employment_type[x]\n",
    "\n",
    "salary.employment_type=salary.employment_type.apply(lambda x: employment_type[x])\n",
    "\n",
    "salary.head()"
   ]
  },
  {
   "cell_type": "code",
   "execution_count": 12,
   "id": "d347bfda",
   "metadata": {},
   "outputs": [
    {
     "data": {
      "text/html": [
       "<div>\n",
       "<style scoped>\n",
       "    .dataframe tbody tr th:only-of-type {\n",
       "        vertical-align: middle;\n",
       "    }\n",
       "\n",
       "    .dataframe tbody tr th {\n",
       "        vertical-align: top;\n",
       "    }\n",
       "\n",
       "    .dataframe thead th {\n",
       "        text-align: right;\n",
       "    }\n",
       "</style>\n",
       "<table border=\"1\" class=\"dataframe\">\n",
       "  <thead>\n",
       "    <tr style=\"text-align: right;\">\n",
       "      <th></th>\n",
       "      <th>work_year</th>\n",
       "      <th>experience_level</th>\n",
       "      <th>employment_type</th>\n",
       "      <th>job_title</th>\n",
       "      <th>salary</th>\n",
       "      <th>salary_currency</th>\n",
       "      <th>employee_residence</th>\n",
       "      <th>remote_ratio</th>\n",
       "      <th>company_location</th>\n",
       "      <th>company_size</th>\n",
       "    </tr>\n",
       "  </thead>\n",
       "  <tbody>\n",
       "    <tr>\n",
       "      <th>0</th>\n",
       "      <td>2020</td>\n",
       "      <td>2</td>\n",
       "      <td>3</td>\n",
       "      <td>Machine Learning Scientist</td>\n",
       "      <td>260000</td>\n",
       "      <td>USD</td>\n",
       "      <td>JP</td>\n",
       "      <td>0</td>\n",
       "      <td>JP</td>\n",
       "      <td>S</td>\n",
       "    </tr>\n",
       "    <tr>\n",
       "      <th>1</th>\n",
       "      <td>2020</td>\n",
       "      <td>1</td>\n",
       "      <td>3</td>\n",
       "      <td>Lead Data Analyst</td>\n",
       "      <td>87000</td>\n",
       "      <td>USD</td>\n",
       "      <td>US</td>\n",
       "      <td>100</td>\n",
       "      <td>US</td>\n",
       "      <td>L</td>\n",
       "    </tr>\n",
       "    <tr>\n",
       "      <th>2</th>\n",
       "      <td>2020</td>\n",
       "      <td>1</td>\n",
       "      <td>3</td>\n",
       "      <td>Data Analyst</td>\n",
       "      <td>85000</td>\n",
       "      <td>USD</td>\n",
       "      <td>US</td>\n",
       "      <td>100</td>\n",
       "      <td>US</td>\n",
       "      <td>L</td>\n",
       "    </tr>\n",
       "    <tr>\n",
       "      <th>3</th>\n",
       "      <td>2020</td>\n",
       "      <td>1</td>\n",
       "      <td>3</td>\n",
       "      <td>Machine Learning Engineer</td>\n",
       "      <td>299000</td>\n",
       "      <td>CNY</td>\n",
       "      <td>CN</td>\n",
       "      <td>0</td>\n",
       "      <td>CN</td>\n",
       "      <td>M</td>\n",
       "    </tr>\n",
       "    <tr>\n",
       "      <th>4</th>\n",
       "      <td>2020</td>\n",
       "      <td>1</td>\n",
       "      <td>3</td>\n",
       "      <td>Product Data Analyst</td>\n",
       "      <td>450000</td>\n",
       "      <td>INR</td>\n",
       "      <td>IN</td>\n",
       "      <td>100</td>\n",
       "      <td>IN</td>\n",
       "      <td>L</td>\n",
       "    </tr>\n",
       "  </tbody>\n",
       "</table>\n",
       "</div>"
      ],
      "text/plain": [
       "   work_year  experience_level  employment_type                   job_title  \\\n",
       "0       2020                 2                3  Machine Learning Scientist   \n",
       "1       2020                 1                3           Lead Data Analyst   \n",
       "2       2020                 1                3                Data Analyst   \n",
       "3       2020                 1                3   Machine Learning Engineer   \n",
       "4       2020                 1                3        Product Data Analyst   \n",
       "\n",
       "   salary salary_currency employee_residence  remote_ratio company_location  \\\n",
       "0  260000             USD                 JP             0               JP   \n",
       "1   87000             USD                 US           100               US   \n",
       "2   85000             USD                 US           100               US   \n",
       "3  299000             CNY                 CN             0               CN   \n",
       "4  450000             INR                 IN           100               IN   \n",
       "\n",
       "  company_size  \n",
       "0            S  \n",
       "1            L  \n",
       "2            L  \n",
       "3            M  \n",
       "4            L  "
      ]
     },
     "execution_count": 12,
     "metadata": {},
     "output_type": "execute_result"
    }
   ],
   "source": [
    "testeo.employment_type=testeo.employment_type.apply(lambda x: employment_type[x])\n",
    "\n",
    "testeo.head()"
   ]
  },
  {
   "cell_type": "code",
   "execution_count": 13,
   "id": "4cee1172",
   "metadata": {},
   "outputs": [],
   "source": [
    "#Eliminamos las columnas salary y salary_currency"
   ]
  },
  {
   "cell_type": "code",
   "execution_count": 14,
   "id": "bffbc665",
   "metadata": {},
   "outputs": [],
   "source": [
    "salary.drop(columns=['salary','salary_currency','employee_residence'], inplace=True)"
   ]
  },
  {
   "cell_type": "code",
   "execution_count": 15,
   "id": "de415ed4",
   "metadata": {},
   "outputs": [],
   "source": [
    "testeo.drop(columns=['salary','salary_currency','employee_residence'], inplace=True)"
   ]
  },
  {
   "cell_type": "code",
   "execution_count": 16,
   "id": "12b8eb15",
   "metadata": {},
   "outputs": [
    {
     "data": {
      "text/html": [
       "<div>\n",
       "<style scoped>\n",
       "    .dataframe tbody tr th:only-of-type {\n",
       "        vertical-align: middle;\n",
       "    }\n",
       "\n",
       "    .dataframe tbody tr th {\n",
       "        vertical-align: top;\n",
       "    }\n",
       "\n",
       "    .dataframe thead th {\n",
       "        text-align: right;\n",
       "    }\n",
       "</style>\n",
       "<table border=\"1\" class=\"dataframe\">\n",
       "  <thead>\n",
       "    <tr style=\"text-align: right;\">\n",
       "      <th></th>\n",
       "      <th>work_year</th>\n",
       "      <th>experience_level</th>\n",
       "      <th>employment_type</th>\n",
       "      <th>job_title</th>\n",
       "      <th>salary_in_usd</th>\n",
       "      <th>remote_ratio</th>\n",
       "      <th>company_location</th>\n",
       "      <th>company_size</th>\n",
       "    </tr>\n",
       "  </thead>\n",
       "  <tbody>\n",
       "    <tr>\n",
       "      <th>0</th>\n",
       "      <td>2022</td>\n",
       "      <td>2</td>\n",
       "      <td>3</td>\n",
       "      <td>Data Engineer</td>\n",
       "      <td>140250</td>\n",
       "      <td>100</td>\n",
       "      <td>US</td>\n",
       "      <td>M</td>\n",
       "    </tr>\n",
       "    <tr>\n",
       "      <th>1</th>\n",
       "      <td>2022</td>\n",
       "      <td>2</td>\n",
       "      <td>3</td>\n",
       "      <td>Data Engineer</td>\n",
       "      <td>135000</td>\n",
       "      <td>100</td>\n",
       "      <td>US</td>\n",
       "      <td>M</td>\n",
       "    </tr>\n",
       "    <tr>\n",
       "      <th>2</th>\n",
       "      <td>2021</td>\n",
       "      <td>1</td>\n",
       "      <td>3</td>\n",
       "      <td>BI Data Analyst</td>\n",
       "      <td>100000</td>\n",
       "      <td>100</td>\n",
       "      <td>US</td>\n",
       "      <td>M</td>\n",
       "    </tr>\n",
       "    <tr>\n",
       "      <th>3</th>\n",
       "      <td>2021</td>\n",
       "      <td>1</td>\n",
       "      <td>1</td>\n",
       "      <td>ML Engineer</td>\n",
       "      <td>270000</td>\n",
       "      <td>100</td>\n",
       "      <td>US</td>\n",
       "      <td>L</td>\n",
       "    </tr>\n",
       "    <tr>\n",
       "      <th>4</th>\n",
       "      <td>2021</td>\n",
       "      <td>1</td>\n",
       "      <td>3</td>\n",
       "      <td>Data Engineer</td>\n",
       "      <td>26005</td>\n",
       "      <td>0</td>\n",
       "      <td>US</td>\n",
       "      <td>L</td>\n",
       "    </tr>\n",
       "  </tbody>\n",
       "</table>\n",
       "</div>"
      ],
      "text/plain": [
       "   work_year  experience_level  employment_type        job_title  \\\n",
       "0       2022                 2                3    Data Engineer   \n",
       "1       2022                 2                3    Data Engineer   \n",
       "2       2021                 1                3  BI Data Analyst   \n",
       "3       2021                 1                1      ML Engineer   \n",
       "4       2021                 1                3    Data Engineer   \n",
       "\n",
       "   salary_in_usd  remote_ratio company_location company_size  \n",
       "0         140250           100               US            M  \n",
       "1         135000           100               US            M  \n",
       "2         100000           100               US            M  \n",
       "3         270000           100               US            L  \n",
       "4          26005             0               US            L  "
      ]
     },
     "execution_count": 16,
     "metadata": {},
     "output_type": "execute_result"
    }
   ],
   "source": [
    "salary.head()"
   ]
  },
  {
   "cell_type": "code",
   "execution_count": 17,
   "id": "3e5d2c9f",
   "metadata": {},
   "outputs": [
    {
     "data": {
      "text/plain": [
       "array(['Data Engineer', 'BI Data Analyst', 'ML Engineer',\n",
       "       'Machine Learning Scientist', 'Data Scientist', 'Data Analyst',\n",
       "       'Machine Learning Engineer', 'Principal Data Scientist',\n",
       "       'Data Engineering Manager', 'Data Analytics Manager',\n",
       "       'Big Data Engineer', 'Research Scientist',\n",
       "       'Machine Learning Developer', 'Computer Vision Engineer',\n",
       "       'AI Scientist', 'Machine Learning Manager', 'Lead Data Scientist',\n",
       "       'Director of Data Science', '3D Computer Vision Researcher',\n",
       "       'Data Specialist', 'Applied Data Scientist',\n",
       "       'Data Science Engineer', 'Head of Data', 'Analytics Engineer',\n",
       "       'ETL Developer', 'Marketing Data Analyst', 'Data Architect',\n",
       "       'Data Science Consultant', 'Principal Data Analyst',\n",
       "       'Head of Data Science', 'Lead Data Engineer',\n",
       "       'Data Science Manager', 'Applied Machine Learning Scientist',\n",
       "       'Lead Data Analyst', 'Cloud Data Engineer',\n",
       "       'Lead Machine Learning Engineer',\n",
       "       'Machine Learning Infrastructure Engineer', 'Big Data Architect',\n",
       "       'Product Data Analyst', 'Business Data Analyst',\n",
       "       'Director of Data Engineering', 'Data Analytics Lead',\n",
       "       'Financial Data Analyst', 'Finance Data Analyst',\n",
       "       'Head of Machine Learning', 'Staff Data Scientist',\n",
       "       'Data Analytics Engineer', 'Computer Vision Software Engineer'],\n",
       "      dtype=object)"
      ]
     },
     "execution_count": 17,
     "metadata": {},
     "output_type": "execute_result"
    }
   ],
   "source": [
    "salary.job_title.unique()"
   ]
  },
  {
   "cell_type": "code",
   "execution_count": 18,
   "id": "9064d4a6",
   "metadata": {},
   "outputs": [],
   "source": [
    "def job_title(x):\n",
    "    if 'Machine' in x or 'ML' in x or 'Computer' in x:\n",
    "        return 'Machine Learning'\n",
    "    if 'Engineer' in x or 'Engineering' in x:\n",
    "        return 'Data Engineer'\n",
    "    if 'Analyst' in x or 'Analytics' in x:\n",
    "        return 'Data Analyst'\n",
    "    else:\n",
    "        return 'Data Scientist'"
   ]
  },
  {
   "cell_type": "code",
   "execution_count": 19,
   "id": "7dd085ff",
   "metadata": {},
   "outputs": [],
   "source": [
    "salary.job_title=salary.job_title.apply(job_title)"
   ]
  },
  {
   "cell_type": "code",
   "execution_count": 20,
   "id": "356d2268",
   "metadata": {},
   "outputs": [],
   "source": [
    "testeo.job_title=testeo.job_title.apply(job_title)"
   ]
  },
  {
   "cell_type": "code",
   "execution_count": 21,
   "id": "2ea47149",
   "metadata": {},
   "outputs": [
    {
     "data": {
      "text/html": [
       "<div>\n",
       "<style scoped>\n",
       "    .dataframe tbody tr th:only-of-type {\n",
       "        vertical-align: middle;\n",
       "    }\n",
       "\n",
       "    .dataframe tbody tr th {\n",
       "        vertical-align: top;\n",
       "    }\n",
       "\n",
       "    .dataframe thead th {\n",
       "        text-align: right;\n",
       "    }\n",
       "</style>\n",
       "<table border=\"1\" class=\"dataframe\">\n",
       "  <thead>\n",
       "    <tr style=\"text-align: right;\">\n",
       "      <th></th>\n",
       "      <th>work_year</th>\n",
       "      <th>experience_level</th>\n",
       "      <th>employment_type</th>\n",
       "      <th>job_title</th>\n",
       "      <th>salary_in_usd</th>\n",
       "      <th>remote_ratio</th>\n",
       "      <th>company_location</th>\n",
       "      <th>company_size</th>\n",
       "    </tr>\n",
       "  </thead>\n",
       "  <tbody>\n",
       "    <tr>\n",
       "      <th>0</th>\n",
       "      <td>2022</td>\n",
       "      <td>2</td>\n",
       "      <td>3</td>\n",
       "      <td>Data Engineer</td>\n",
       "      <td>140250</td>\n",
       "      <td>100</td>\n",
       "      <td>US</td>\n",
       "      <td>M</td>\n",
       "    </tr>\n",
       "    <tr>\n",
       "      <th>1</th>\n",
       "      <td>2022</td>\n",
       "      <td>2</td>\n",
       "      <td>3</td>\n",
       "      <td>Data Engineer</td>\n",
       "      <td>135000</td>\n",
       "      <td>100</td>\n",
       "      <td>US</td>\n",
       "      <td>M</td>\n",
       "    </tr>\n",
       "    <tr>\n",
       "      <th>2</th>\n",
       "      <td>2021</td>\n",
       "      <td>1</td>\n",
       "      <td>3</td>\n",
       "      <td>Data Analyst</td>\n",
       "      <td>100000</td>\n",
       "      <td>100</td>\n",
       "      <td>US</td>\n",
       "      <td>M</td>\n",
       "    </tr>\n",
       "    <tr>\n",
       "      <th>3</th>\n",
       "      <td>2021</td>\n",
       "      <td>1</td>\n",
       "      <td>1</td>\n",
       "      <td>Machine Learning</td>\n",
       "      <td>270000</td>\n",
       "      <td>100</td>\n",
       "      <td>US</td>\n",
       "      <td>L</td>\n",
       "    </tr>\n",
       "    <tr>\n",
       "      <th>4</th>\n",
       "      <td>2021</td>\n",
       "      <td>1</td>\n",
       "      <td>3</td>\n",
       "      <td>Data Engineer</td>\n",
       "      <td>26005</td>\n",
       "      <td>0</td>\n",
       "      <td>US</td>\n",
       "      <td>L</td>\n",
       "    </tr>\n",
       "  </tbody>\n",
       "</table>\n",
       "</div>"
      ],
      "text/plain": [
       "   work_year  experience_level  employment_type         job_title  \\\n",
       "0       2022                 2                3     Data Engineer   \n",
       "1       2022                 2                3     Data Engineer   \n",
       "2       2021                 1                3      Data Analyst   \n",
       "3       2021                 1                1  Machine Learning   \n",
       "4       2021                 1                3     Data Engineer   \n",
       "\n",
       "   salary_in_usd  remote_ratio company_location company_size  \n",
       "0         140250           100               US            M  \n",
       "1         135000           100               US            M  \n",
       "2         100000           100               US            M  \n",
       "3         270000           100               US            L  \n",
       "4          26005             0               US            L  "
      ]
     },
     "execution_count": 21,
     "metadata": {},
     "output_type": "execute_result"
    }
   ],
   "source": [
    "salary.head()"
   ]
  },
  {
   "cell_type": "code",
   "execution_count": 22,
   "id": "1dfe2831",
   "metadata": {},
   "outputs": [
    {
     "data": {
      "text/plain": [
       "array(['M', 'L', 'S'], dtype=object)"
      ]
     },
     "execution_count": 22,
     "metadata": {},
     "output_type": "execute_result"
    }
   ],
   "source": [
    "salary.company_size.unique()"
   ]
  },
  {
   "cell_type": "code",
   "execution_count": 23,
   "id": "4a91d125",
   "metadata": {},
   "outputs": [
    {
     "data": {
      "text/html": [
       "<div>\n",
       "<style scoped>\n",
       "    .dataframe tbody tr th:only-of-type {\n",
       "        vertical-align: middle;\n",
       "    }\n",
       "\n",
       "    .dataframe tbody tr th {\n",
       "        vertical-align: top;\n",
       "    }\n",
       "\n",
       "    .dataframe thead th {\n",
       "        text-align: right;\n",
       "    }\n",
       "</style>\n",
       "<table border=\"1\" class=\"dataframe\">\n",
       "  <thead>\n",
       "    <tr style=\"text-align: right;\">\n",
       "      <th></th>\n",
       "      <th>work_year</th>\n",
       "      <th>experience_level</th>\n",
       "      <th>employment_type</th>\n",
       "      <th>job_title</th>\n",
       "      <th>salary_in_usd</th>\n",
       "      <th>remote_ratio</th>\n",
       "      <th>company_location</th>\n",
       "      <th>company_size</th>\n",
       "    </tr>\n",
       "  </thead>\n",
       "  <tbody>\n",
       "    <tr>\n",
       "      <th>0</th>\n",
       "      <td>2022</td>\n",
       "      <td>2</td>\n",
       "      <td>3</td>\n",
       "      <td>Data Engineer</td>\n",
       "      <td>140250</td>\n",
       "      <td>100</td>\n",
       "      <td>US</td>\n",
       "      <td>1</td>\n",
       "    </tr>\n",
       "    <tr>\n",
       "      <th>1</th>\n",
       "      <td>2022</td>\n",
       "      <td>2</td>\n",
       "      <td>3</td>\n",
       "      <td>Data Engineer</td>\n",
       "      <td>135000</td>\n",
       "      <td>100</td>\n",
       "      <td>US</td>\n",
       "      <td>1</td>\n",
       "    </tr>\n",
       "    <tr>\n",
       "      <th>2</th>\n",
       "      <td>2021</td>\n",
       "      <td>1</td>\n",
       "      <td>3</td>\n",
       "      <td>Data Analyst</td>\n",
       "      <td>100000</td>\n",
       "      <td>100</td>\n",
       "      <td>US</td>\n",
       "      <td>1</td>\n",
       "    </tr>\n",
       "    <tr>\n",
       "      <th>3</th>\n",
       "      <td>2021</td>\n",
       "      <td>1</td>\n",
       "      <td>1</td>\n",
       "      <td>Machine Learning</td>\n",
       "      <td>270000</td>\n",
       "      <td>100</td>\n",
       "      <td>US</td>\n",
       "      <td>2</td>\n",
       "    </tr>\n",
       "    <tr>\n",
       "      <th>4</th>\n",
       "      <td>2021</td>\n",
       "      <td>1</td>\n",
       "      <td>3</td>\n",
       "      <td>Data Engineer</td>\n",
       "      <td>26005</td>\n",
       "      <td>0</td>\n",
       "      <td>US</td>\n",
       "      <td>2</td>\n",
       "    </tr>\n",
       "  </tbody>\n",
       "</table>\n",
       "</div>"
      ],
      "text/plain": [
       "   work_year  experience_level  employment_type         job_title  \\\n",
       "0       2022                 2                3     Data Engineer   \n",
       "1       2022                 2                3     Data Engineer   \n",
       "2       2021                 1                3      Data Analyst   \n",
       "3       2021                 1                1  Machine Learning   \n",
       "4       2021                 1                3     Data Engineer   \n",
       "\n",
       "   salary_in_usd  remote_ratio company_location  company_size  \n",
       "0         140250           100               US             1  \n",
       "1         135000           100               US             1  \n",
       "2         100000           100               US             1  \n",
       "3         270000           100               US             2  \n",
       "4          26005             0               US             2  "
      ]
     },
     "execution_count": 23,
     "metadata": {},
     "output_type": "execute_result"
    }
   ],
   "source": [
    "company_size={'M': 1, 'L': 2, 'S': 0}\n",
    "\n",
    "def cambio_size(x):   \n",
    "    return company_size[x]\n",
    "\n",
    "salary.company_size=salary.company_size.apply(lambda x: company_size[x])\n",
    "\n",
    "salary.head()"
   ]
  },
  {
   "cell_type": "code",
   "execution_count": 24,
   "id": "623c955a",
   "metadata": {},
   "outputs": [
    {
     "data": {
      "text/html": [
       "<div>\n",
       "<style scoped>\n",
       "    .dataframe tbody tr th:only-of-type {\n",
       "        vertical-align: middle;\n",
       "    }\n",
       "\n",
       "    .dataframe tbody tr th {\n",
       "        vertical-align: top;\n",
       "    }\n",
       "\n",
       "    .dataframe thead th {\n",
       "        text-align: right;\n",
       "    }\n",
       "</style>\n",
       "<table border=\"1\" class=\"dataframe\">\n",
       "  <thead>\n",
       "    <tr style=\"text-align: right;\">\n",
       "      <th></th>\n",
       "      <th>work_year</th>\n",
       "      <th>experience_level</th>\n",
       "      <th>employment_type</th>\n",
       "      <th>job_title</th>\n",
       "      <th>remote_ratio</th>\n",
       "      <th>company_location</th>\n",
       "      <th>company_size</th>\n",
       "    </tr>\n",
       "  </thead>\n",
       "  <tbody>\n",
       "    <tr>\n",
       "      <th>0</th>\n",
       "      <td>2020</td>\n",
       "      <td>2</td>\n",
       "      <td>3</td>\n",
       "      <td>Machine Learning</td>\n",
       "      <td>0</td>\n",
       "      <td>JP</td>\n",
       "      <td>0</td>\n",
       "    </tr>\n",
       "    <tr>\n",
       "      <th>1</th>\n",
       "      <td>2020</td>\n",
       "      <td>1</td>\n",
       "      <td>3</td>\n",
       "      <td>Data Analyst</td>\n",
       "      <td>100</td>\n",
       "      <td>US</td>\n",
       "      <td>2</td>\n",
       "    </tr>\n",
       "    <tr>\n",
       "      <th>2</th>\n",
       "      <td>2020</td>\n",
       "      <td>1</td>\n",
       "      <td>3</td>\n",
       "      <td>Data Analyst</td>\n",
       "      <td>100</td>\n",
       "      <td>US</td>\n",
       "      <td>2</td>\n",
       "    </tr>\n",
       "    <tr>\n",
       "      <th>3</th>\n",
       "      <td>2020</td>\n",
       "      <td>1</td>\n",
       "      <td>3</td>\n",
       "      <td>Machine Learning</td>\n",
       "      <td>0</td>\n",
       "      <td>CN</td>\n",
       "      <td>1</td>\n",
       "    </tr>\n",
       "    <tr>\n",
       "      <th>4</th>\n",
       "      <td>2020</td>\n",
       "      <td>1</td>\n",
       "      <td>3</td>\n",
       "      <td>Data Analyst</td>\n",
       "      <td>100</td>\n",
       "      <td>IN</td>\n",
       "      <td>2</td>\n",
       "    </tr>\n",
       "  </tbody>\n",
       "</table>\n",
       "</div>"
      ],
      "text/plain": [
       "   work_year  experience_level  employment_type         job_title  \\\n",
       "0       2020                 2                3  Machine Learning   \n",
       "1       2020                 1                3      Data Analyst   \n",
       "2       2020                 1                3      Data Analyst   \n",
       "3       2020                 1                3  Machine Learning   \n",
       "4       2020                 1                3      Data Analyst   \n",
       "\n",
       "   remote_ratio company_location  company_size  \n",
       "0             0               JP             0  \n",
       "1           100               US             2  \n",
       "2           100               US             2  \n",
       "3             0               CN             1  \n",
       "4           100               IN             2  "
      ]
     },
     "execution_count": 24,
     "metadata": {},
     "output_type": "execute_result"
    }
   ],
   "source": [
    "testeo.company_size=testeo.company_size.apply(lambda x: company_size[x])\n",
    "\n",
    "testeo.head()"
   ]
  },
  {
   "cell_type": "code",
   "execution_count": 25,
   "id": "b41d2ca8",
   "metadata": {},
   "outputs": [
    {
     "data": {
      "text/html": [
       "<div>\n",
       "<style scoped>\n",
       "    .dataframe tbody tr th:only-of-type {\n",
       "        vertical-align: middle;\n",
       "    }\n",
       "\n",
       "    .dataframe tbody tr th {\n",
       "        vertical-align: top;\n",
       "    }\n",
       "\n",
       "    .dataframe thead th {\n",
       "        text-align: right;\n",
       "    }\n",
       "</style>\n",
       "<table border=\"1\" class=\"dataframe\">\n",
       "  <thead>\n",
       "    <tr style=\"text-align: right;\">\n",
       "      <th></th>\n",
       "      <th>work_year</th>\n",
       "      <th>experience_level</th>\n",
       "      <th>employment_type</th>\n",
       "      <th>job_title</th>\n",
       "      <th>salary_in_usd</th>\n",
       "      <th>remote_ratio</th>\n",
       "      <th>company_location</th>\n",
       "      <th>company_size</th>\n",
       "    </tr>\n",
       "  </thead>\n",
       "  <tbody>\n",
       "    <tr>\n",
       "      <th>0</th>\n",
       "      <td>2022</td>\n",
       "      <td>2</td>\n",
       "      <td>3</td>\n",
       "      <td>Data Engineer</td>\n",
       "      <td>140250</td>\n",
       "      <td>100</td>\n",
       "      <td>US</td>\n",
       "      <td>1</td>\n",
       "    </tr>\n",
       "    <tr>\n",
       "      <th>1</th>\n",
       "      <td>2022</td>\n",
       "      <td>2</td>\n",
       "      <td>3</td>\n",
       "      <td>Data Engineer</td>\n",
       "      <td>135000</td>\n",
       "      <td>100</td>\n",
       "      <td>US</td>\n",
       "      <td>1</td>\n",
       "    </tr>\n",
       "    <tr>\n",
       "      <th>2</th>\n",
       "      <td>2021</td>\n",
       "      <td>1</td>\n",
       "      <td>3</td>\n",
       "      <td>Data Analyst</td>\n",
       "      <td>100000</td>\n",
       "      <td>100</td>\n",
       "      <td>US</td>\n",
       "      <td>1</td>\n",
       "    </tr>\n",
       "    <tr>\n",
       "      <th>3</th>\n",
       "      <td>2021</td>\n",
       "      <td>1</td>\n",
       "      <td>1</td>\n",
       "      <td>Machine Learning</td>\n",
       "      <td>270000</td>\n",
       "      <td>100</td>\n",
       "      <td>US</td>\n",
       "      <td>2</td>\n",
       "    </tr>\n",
       "    <tr>\n",
       "      <th>4</th>\n",
       "      <td>2021</td>\n",
       "      <td>1</td>\n",
       "      <td>3</td>\n",
       "      <td>Data Engineer</td>\n",
       "      <td>26005</td>\n",
       "      <td>0</td>\n",
       "      <td>US</td>\n",
       "      <td>2</td>\n",
       "    </tr>\n",
       "  </tbody>\n",
       "</table>\n",
       "</div>"
      ],
      "text/plain": [
       "   work_year  experience_level  employment_type         job_title  \\\n",
       "0       2022                 2                3     Data Engineer   \n",
       "1       2022                 2                3     Data Engineer   \n",
       "2       2021                 1                3      Data Analyst   \n",
       "3       2021                 1                1  Machine Learning   \n",
       "4       2021                 1                3     Data Engineer   \n",
       "\n",
       "   salary_in_usd  remote_ratio company_location  company_size  \n",
       "0         140250           100               US             1  \n",
       "1         135000           100               US             1  \n",
       "2         100000           100               US             1  \n",
       "3         270000           100               US             2  \n",
       "4          26005             0               US             2  "
      ]
     },
     "execution_count": 25,
     "metadata": {},
     "output_type": "execute_result"
    }
   ],
   "source": [
    "salary.head()"
   ]
  },
  {
   "cell_type": "code",
   "execution_count": 26,
   "id": "0b87d9a1",
   "metadata": {},
   "outputs": [
    {
     "data": {
      "text/plain": [
       "array([100,   0,  50])"
      ]
     },
     "execution_count": 26,
     "metadata": {},
     "output_type": "execute_result"
    }
   ],
   "source": [
    "salary.remote_ratio.unique()"
   ]
  },
  {
   "cell_type": "code",
   "execution_count": 27,
   "id": "df44833f",
   "metadata": {},
   "outputs": [],
   "source": [
    "def company_location(x):\n",
    "    if 'US' in x:\n",
    "        return '1'\n",
    "    else:\n",
    "        return '2'"
   ]
  },
  {
   "cell_type": "code",
   "execution_count": 28,
   "id": "0e3748f4",
   "metadata": {},
   "outputs": [],
   "source": [
    "salary.company_location=salary.company_location.apply(company_location)"
   ]
  },
  {
   "cell_type": "code",
   "execution_count": 29,
   "id": "88678162",
   "metadata": {},
   "outputs": [],
   "source": [
    "testeo.company_location=testeo.company_location.apply(company_location)"
   ]
  },
  {
   "cell_type": "code",
   "execution_count": 30,
   "id": "1a46c273",
   "metadata": {},
   "outputs": [],
   "source": [
    "from sklearn.preprocessing import LabelEncoder"
   ]
  },
  {
   "cell_type": "code",
   "execution_count": 31,
   "id": "3482455b",
   "metadata": {},
   "outputs": [],
   "source": [
    "salary.job_title=LabelEncoder().fit_transform(salary.job_title)"
   ]
  },
  {
   "cell_type": "code",
   "execution_count": 32,
   "id": "10d8390d",
   "metadata": {},
   "outputs": [],
   "source": [
    "testeo.job_title=LabelEncoder().fit_transform(testeo.job_title)"
   ]
  },
  {
   "cell_type": "code",
   "execution_count": 33,
   "id": "fb3c1bde",
   "metadata": {},
   "outputs": [],
   "source": [
    "salary.work_year=LabelEncoder().fit_transform(salary.work_year)"
   ]
  },
  {
   "cell_type": "code",
   "execution_count": 34,
   "id": "4cbb3feb",
   "metadata": {},
   "outputs": [],
   "source": [
    "testeo.work_year=LabelEncoder().fit_transform(testeo.work_year)"
   ]
  },
  {
   "cell_type": "code",
   "execution_count": 35,
   "id": "c86959c1",
   "metadata": {},
   "outputs": [],
   "source": [
    "salary.salary_in_usd=LabelEncoder().fit_transform(salary.salary_in_usd)"
   ]
  },
  {
   "cell_type": "code",
   "execution_count": 36,
   "id": "a62ab200",
   "metadata": {},
   "outputs": [],
   "source": [
    "salary.remote_ratio=LabelEncoder().fit_transform(salary.remote_ratio)"
   ]
  },
  {
   "cell_type": "code",
   "execution_count": 37,
   "id": "260d96ed",
   "metadata": {},
   "outputs": [],
   "source": [
    "testeo.remote_ratio=LabelEncoder().fit_transform(testeo.remote_ratio)"
   ]
  },
  {
   "cell_type": "code",
   "execution_count": 38,
   "id": "05c97854",
   "metadata": {},
   "outputs": [],
   "source": [
    "testeo.job_title=LabelEncoder().fit_transform(testeo.job_title)"
   ]
  },
  {
   "cell_type": "code",
   "execution_count": 39,
   "id": "e98f7961",
   "metadata": {},
   "outputs": [
    {
     "data": {
      "text/html": [
       "<div>\n",
       "<style scoped>\n",
       "    .dataframe tbody tr th:only-of-type {\n",
       "        vertical-align: middle;\n",
       "    }\n",
       "\n",
       "    .dataframe tbody tr th {\n",
       "        vertical-align: top;\n",
       "    }\n",
       "\n",
       "    .dataframe thead th {\n",
       "        text-align: right;\n",
       "    }\n",
       "</style>\n",
       "<table border=\"1\" class=\"dataframe\">\n",
       "  <thead>\n",
       "    <tr style=\"text-align: right;\">\n",
       "      <th></th>\n",
       "      <th>work_year</th>\n",
       "      <th>experience_level</th>\n",
       "      <th>employment_type</th>\n",
       "      <th>job_title</th>\n",
       "      <th>salary_in_usd</th>\n",
       "      <th>remote_ratio</th>\n",
       "      <th>company_location</th>\n",
       "      <th>company_size</th>\n",
       "    </tr>\n",
       "  </thead>\n",
       "  <tbody>\n",
       "    <tr>\n",
       "      <th>0</th>\n",
       "      <td>2</td>\n",
       "      <td>2</td>\n",
       "      <td>3</td>\n",
       "      <td>1</td>\n",
       "      <td>228</td>\n",
       "      <td>2</td>\n",
       "      <td>1</td>\n",
       "      <td>1</td>\n",
       "    </tr>\n",
       "    <tr>\n",
       "      <th>1</th>\n",
       "      <td>2</td>\n",
       "      <td>2</td>\n",
       "      <td>3</td>\n",
       "      <td>1</td>\n",
       "      <td>219</td>\n",
       "      <td>2</td>\n",
       "      <td>1</td>\n",
       "      <td>1</td>\n",
       "    </tr>\n",
       "    <tr>\n",
       "      <th>2</th>\n",
       "      <td>1</td>\n",
       "      <td>1</td>\n",
       "      <td>3</td>\n",
       "      <td>0</td>\n",
       "      <td>166</td>\n",
       "      <td>2</td>\n",
       "      <td>1</td>\n",
       "      <td>1</td>\n",
       "    </tr>\n",
       "    <tr>\n",
       "      <th>3</th>\n",
       "      <td>1</td>\n",
       "      <td>1</td>\n",
       "      <td>1</td>\n",
       "      <td>3</td>\n",
       "      <td>302</td>\n",
       "      <td>2</td>\n",
       "      <td>1</td>\n",
       "      <td>2</td>\n",
       "    </tr>\n",
       "    <tr>\n",
       "      <th>4</th>\n",
       "      <td>1</td>\n",
       "      <td>1</td>\n",
       "      <td>3</td>\n",
       "      <td>1</td>\n",
       "      <td>32</td>\n",
       "      <td>0</td>\n",
       "      <td>1</td>\n",
       "      <td>2</td>\n",
       "    </tr>\n",
       "  </tbody>\n",
       "</table>\n",
       "</div>"
      ],
      "text/plain": [
       "   work_year  experience_level  employment_type  job_title  salary_in_usd  \\\n",
       "0          2                 2                3          1            228   \n",
       "1          2                 2                3          1            219   \n",
       "2          1                 1                3          0            166   \n",
       "3          1                 1                1          3            302   \n",
       "4          1                 1                3          1             32   \n",
       "\n",
       "   remote_ratio company_location  company_size  \n",
       "0             2                1             1  \n",
       "1             2                1             1  \n",
       "2             2                1             1  \n",
       "3             2                1             2  \n",
       "4             0                1             2  "
      ]
     },
     "execution_count": 39,
     "metadata": {},
     "output_type": "execute_result"
    }
   ],
   "source": [
    "salary.head()"
   ]
  },
  {
   "cell_type": "code",
   "execution_count": 40,
   "id": "26cf3b4b",
   "metadata": {},
   "outputs": [
    {
     "data": {
      "text/html": [
       "<div>\n",
       "<style scoped>\n",
       "    .dataframe tbody tr th:only-of-type {\n",
       "        vertical-align: middle;\n",
       "    }\n",
       "\n",
       "    .dataframe tbody tr th {\n",
       "        vertical-align: top;\n",
       "    }\n",
       "\n",
       "    .dataframe thead th {\n",
       "        text-align: right;\n",
       "    }\n",
       "</style>\n",
       "<table border=\"1\" class=\"dataframe\">\n",
       "  <thead>\n",
       "    <tr style=\"text-align: right;\">\n",
       "      <th></th>\n",
       "      <th>work_year</th>\n",
       "      <th>experience_level</th>\n",
       "      <th>employment_type</th>\n",
       "      <th>job_title</th>\n",
       "      <th>remote_ratio</th>\n",
       "      <th>company_location</th>\n",
       "      <th>company_size</th>\n",
       "    </tr>\n",
       "  </thead>\n",
       "  <tbody>\n",
       "    <tr>\n",
       "      <th>0</th>\n",
       "      <td>0</td>\n",
       "      <td>2</td>\n",
       "      <td>3</td>\n",
       "      <td>3</td>\n",
       "      <td>0</td>\n",
       "      <td>2</td>\n",
       "      <td>0</td>\n",
       "    </tr>\n",
       "    <tr>\n",
       "      <th>1</th>\n",
       "      <td>0</td>\n",
       "      <td>1</td>\n",
       "      <td>3</td>\n",
       "      <td>0</td>\n",
       "      <td>2</td>\n",
       "      <td>1</td>\n",
       "      <td>2</td>\n",
       "    </tr>\n",
       "    <tr>\n",
       "      <th>2</th>\n",
       "      <td>0</td>\n",
       "      <td>1</td>\n",
       "      <td>3</td>\n",
       "      <td>0</td>\n",
       "      <td>2</td>\n",
       "      <td>1</td>\n",
       "      <td>2</td>\n",
       "    </tr>\n",
       "    <tr>\n",
       "      <th>3</th>\n",
       "      <td>0</td>\n",
       "      <td>1</td>\n",
       "      <td>3</td>\n",
       "      <td>3</td>\n",
       "      <td>0</td>\n",
       "      <td>2</td>\n",
       "      <td>1</td>\n",
       "    </tr>\n",
       "    <tr>\n",
       "      <th>4</th>\n",
       "      <td>0</td>\n",
       "      <td>1</td>\n",
       "      <td>3</td>\n",
       "      <td>0</td>\n",
       "      <td>2</td>\n",
       "      <td>2</td>\n",
       "      <td>2</td>\n",
       "    </tr>\n",
       "  </tbody>\n",
       "</table>\n",
       "</div>"
      ],
      "text/plain": [
       "   work_year  experience_level  employment_type  job_title  remote_ratio  \\\n",
       "0          0                 2                3          3             0   \n",
       "1          0                 1                3          0             2   \n",
       "2          0                 1                3          0             2   \n",
       "3          0                 1                3          3             0   \n",
       "4          0                 1                3          0             2   \n",
       "\n",
       "  company_location  company_size  \n",
       "0                2             0  \n",
       "1                1             2  \n",
       "2                1             2  \n",
       "3                2             1  \n",
       "4                2             2  "
      ]
     },
     "execution_count": 40,
     "metadata": {},
     "output_type": "execute_result"
    }
   ],
   "source": [
    "testeo.head()"
   ]
  },
  {
   "cell_type": "code",
   "execution_count": null,
   "id": "ea0aea0b",
   "metadata": {},
   "outputs": [],
   "source": [
    "# salary.company_location=LabelEncoder().fit_transform(salary.company_location)"
   ]
  },
  {
   "cell_type": "code",
   "execution_count": null,
   "id": "78043f0f",
   "metadata": {},
   "outputs": [],
   "source": [
    "# testeo.company_location=LabelEncoder().fit_transform(testeo.company_location)"
   ]
  },
  {
   "cell_type": "code",
   "execution_count": 41,
   "id": "96864497",
   "metadata": {},
   "outputs": [
    {
     "data": {
      "text/plain": [
       "1    296\n",
       "2    204\n",
       "Name: company_location, dtype: int64"
      ]
     },
     "execution_count": 41,
     "metadata": {},
     "output_type": "execute_result"
    }
   ],
   "source": [
    "salary.company_location.value_counts()"
   ]
  },
  {
   "cell_type": "code",
   "execution_count": 42,
   "id": "f49e71b4",
   "metadata": {},
   "outputs": [
    {
     "data": {
      "text/plain": [
       "1    296\n",
       "2    204\n",
       "Name: company_location, dtype: int64"
      ]
     },
     "execution_count": 42,
     "metadata": {},
     "output_type": "execute_result"
    }
   ],
   "source": [
    "salary.company_location.value_counts()"
   ]
  },
  {
   "cell_type": "code",
   "execution_count": 43,
   "id": "0e2a30a9",
   "metadata": {},
   "outputs": [
    {
     "name": "stdout",
     "output_type": "stream",
     "text": [
      "<class 'pandas.core.frame.DataFrame'>\n",
      "RangeIndex: 500 entries, 0 to 499\n",
      "Data columns (total 8 columns):\n",
      " #   Column            Non-Null Count  Dtype \n",
      "---  ------            --------------  ----- \n",
      " 0   work_year         500 non-null    int64 \n",
      " 1   experience_level  500 non-null    int64 \n",
      " 2   employment_type   500 non-null    int64 \n",
      " 3   job_title         500 non-null    int64 \n",
      " 4   salary_in_usd     500 non-null    int64 \n",
      " 5   remote_ratio      500 non-null    int64 \n",
      " 6   company_location  500 non-null    object\n",
      " 7   company_size      500 non-null    int64 \n",
      "dtypes: int64(7), object(1)\n",
      "memory usage: 31.4+ KB\n"
     ]
    }
   ],
   "source": [
    "salary.info()"
   ]
  },
  {
   "cell_type": "code",
   "execution_count": 44,
   "id": "7830f9ed",
   "metadata": {},
   "outputs": [],
   "source": [
    "salary['company_location'] = salary['company_location'].astype('int')"
   ]
  },
  {
   "cell_type": "code",
   "execution_count": 45,
   "id": "273906b9",
   "metadata": {},
   "outputs": [],
   "source": [
    "testeo['company_location'] = testeo['company_location'].astype('int')"
   ]
  },
  {
   "cell_type": "code",
   "execution_count": 46,
   "id": "48980e20",
   "metadata": {},
   "outputs": [
    {
     "name": "stdout",
     "output_type": "stream",
     "text": [
      "<class 'pandas.core.frame.DataFrame'>\n",
      "RangeIndex: 107 entries, 0 to 106\n",
      "Data columns (total 7 columns):\n",
      " #   Column            Non-Null Count  Dtype\n",
      "---  ------            --------------  -----\n",
      " 0   work_year         107 non-null    int64\n",
      " 1   experience_level  107 non-null    int64\n",
      " 2   employment_type   107 non-null    int64\n",
      " 3   job_title         107 non-null    int64\n",
      " 4   remote_ratio      107 non-null    int64\n",
      " 5   company_location  107 non-null    int64\n",
      " 6   company_size      107 non-null    int64\n",
      "dtypes: int64(7)\n",
      "memory usage: 6.0 KB\n"
     ]
    }
   ],
   "source": [
    "testeo.info()"
   ]
  },
  {
   "cell_type": "code",
   "execution_count": null,
   "id": "e417de42",
   "metadata": {},
   "outputs": [],
   "source": [
    "#from sklearn.preprocessing import StandardScaler\n",
    "\n",
    "#scaler=StandardScaler()\n",
    "\n",
    "#salary[['work_year', 'salary_in_usd','experience_level', 'employment_type', 'job_title','remote_ratio','company_location','company_size']]=scaler.fit_transform(salary[['work_year', 'salary_in_usd','experience_level','employment_type', 'job_title','remote_ratio','company_location','company_size']])\n",
    "\n",
    "#salary.head()"
   ]
  },
  {
   "cell_type": "code",
   "execution_count": 47,
   "id": "1e85910d",
   "metadata": {},
   "outputs": [
    {
     "data": {
      "text/html": [
       "<div>\n",
       "<style scoped>\n",
       "    .dataframe tbody tr th:only-of-type {\n",
       "        vertical-align: middle;\n",
       "    }\n",
       "\n",
       "    .dataframe tbody tr th {\n",
       "        vertical-align: top;\n",
       "    }\n",
       "\n",
       "    .dataframe thead th {\n",
       "        text-align: right;\n",
       "    }\n",
       "</style>\n",
       "<table border=\"1\" class=\"dataframe\">\n",
       "  <thead>\n",
       "    <tr style=\"text-align: right;\">\n",
       "      <th></th>\n",
       "      <th>work_year</th>\n",
       "      <th>experience_level</th>\n",
       "      <th>employment_type</th>\n",
       "      <th>job_title</th>\n",
       "      <th>salary_in_usd</th>\n",
       "      <th>remote_ratio</th>\n",
       "      <th>company_location</th>\n",
       "      <th>company_size</th>\n",
       "    </tr>\n",
       "  </thead>\n",
       "  <tbody>\n",
       "    <tr>\n",
       "      <th>0</th>\n",
       "      <td>2</td>\n",
       "      <td>2</td>\n",
       "      <td>3</td>\n",
       "      <td>1</td>\n",
       "      <td>0.719390</td>\n",
       "      <td>2</td>\n",
       "      <td>1</td>\n",
       "      <td>1</td>\n",
       "    </tr>\n",
       "    <tr>\n",
       "      <th>1</th>\n",
       "      <td>2</td>\n",
       "      <td>2</td>\n",
       "      <td>3</td>\n",
       "      <td>1</td>\n",
       "      <td>0.614099</td>\n",
       "      <td>2</td>\n",
       "      <td>1</td>\n",
       "      <td>1</td>\n",
       "    </tr>\n",
       "    <tr>\n",
       "      <th>2</th>\n",
       "      <td>1</td>\n",
       "      <td>1</td>\n",
       "      <td>3</td>\n",
       "      <td>0</td>\n",
       "      <td>-0.005943</td>\n",
       "      <td>2</td>\n",
       "      <td>1</td>\n",
       "      <td>1</td>\n",
       "    </tr>\n",
       "    <tr>\n",
       "      <th>3</th>\n",
       "      <td>1</td>\n",
       "      <td>1</td>\n",
       "      <td>1</td>\n",
       "      <td>3</td>\n",
       "      <td>1.585109</td>\n",
       "      <td>2</td>\n",
       "      <td>1</td>\n",
       "      <td>2</td>\n",
       "    </tr>\n",
       "    <tr>\n",
       "      <th>4</th>\n",
       "      <td>1</td>\n",
       "      <td>1</td>\n",
       "      <td>3</td>\n",
       "      <td>1</td>\n",
       "      <td>-1.573597</td>\n",
       "      <td>0</td>\n",
       "      <td>1</td>\n",
       "      <td>2</td>\n",
       "    </tr>\n",
       "  </tbody>\n",
       "</table>\n",
       "</div>"
      ],
      "text/plain": [
       "   work_year  experience_level  employment_type  job_title  salary_in_usd  \\\n",
       "0          2                 2                3          1       0.719390   \n",
       "1          2                 2                3          1       0.614099   \n",
       "2          1                 1                3          0      -0.005943   \n",
       "3          1                 1                1          3       1.585109   \n",
       "4          1                 1                3          1      -1.573597   \n",
       "\n",
       "   remote_ratio  company_location  company_size  \n",
       "0             2                 1             1  \n",
       "1             2                 1             1  \n",
       "2             2                 1             1  \n",
       "3             2                 1             2  \n",
       "4             0                 1             2  "
      ]
     },
     "execution_count": 47,
     "metadata": {},
     "output_type": "execute_result"
    }
   ],
   "source": [
    "from sklearn.preprocessing import StandardScaler\n",
    "\n",
    "scaler=StandardScaler()\n",
    "\n",
    "salary[['salary_in_usd']]=scaler.fit_transform(salary[['salary_in_usd']])\n",
    "\n",
    "salary.head()"
   ]
  },
  {
   "cell_type": "code",
   "execution_count": 48,
   "id": "811bca08",
   "metadata": {},
   "outputs": [
    {
     "name": "stdout",
     "output_type": "stream",
     "text": [
      "<class 'pandas.core.frame.DataFrame'>\n",
      "RangeIndex: 500 entries, 0 to 499\n",
      "Data columns (total 8 columns):\n",
      " #   Column            Non-Null Count  Dtype  \n",
      "---  ------            --------------  -----  \n",
      " 0   work_year         500 non-null    int64  \n",
      " 1   experience_level  500 non-null    int64  \n",
      " 2   employment_type   500 non-null    int64  \n",
      " 3   job_title         500 non-null    int64  \n",
      " 4   salary_in_usd     500 non-null    float64\n",
      " 5   remote_ratio      500 non-null    int64  \n",
      " 6   company_location  500 non-null    int64  \n",
      " 7   company_size      500 non-null    int64  \n",
      "dtypes: float64(1), int64(7)\n",
      "memory usage: 31.4 KB\n"
     ]
    }
   ],
   "source": [
    "salary.info()"
   ]
  },
  {
   "cell_type": "code",
   "execution_count": 49,
   "id": "1bce1068",
   "metadata": {},
   "outputs": [],
   "source": [
    "salary['salary_in_usd'] = salary['salary_in_usd'].astype('int')"
   ]
  },
  {
   "cell_type": "code",
   "execution_count": 50,
   "id": "5bf7f350",
   "metadata": {},
   "outputs": [
    {
     "name": "stdout",
     "output_type": "stream",
     "text": [
      "<class 'pandas.core.frame.DataFrame'>\n",
      "RangeIndex: 107 entries, 0 to 106\n",
      "Data columns (total 7 columns):\n",
      " #   Column            Non-Null Count  Dtype\n",
      "---  ------            --------------  -----\n",
      " 0   work_year         107 non-null    int64\n",
      " 1   experience_level  107 non-null    int64\n",
      " 2   employment_type   107 non-null    int64\n",
      " 3   job_title         107 non-null    int64\n",
      " 4   remote_ratio      107 non-null    int64\n",
      " 5   company_location  107 non-null    int64\n",
      " 6   company_size      107 non-null    int64\n",
      "dtypes: int64(7)\n",
      "memory usage: 6.0 KB\n"
     ]
    }
   ],
   "source": [
    "testeo.info()"
   ]
  },
  {
   "cell_type": "code",
   "execution_count": null,
   "id": "96d9cc4b",
   "metadata": {},
   "outputs": [],
   "source": []
  },
  {
   "cell_type": "code",
   "execution_count": null,
   "id": "876aaf1a",
   "metadata": {},
   "outputs": [],
   "source": [
    "#testeo[['work_year','experience_level', 'employment_type', 'job_title','remote_ratio','company_location','company_size']]=scaler.fit_transform(testeo[['work_year','experience_level','employment_type', 'job_title','remote_ratio','company_location','company_size']])\n",
    "\n",
    "#testeo.head()"
   ]
  },
  {
   "cell_type": "code",
   "execution_count": null,
   "id": "4062f7e3",
   "metadata": {},
   "outputs": [],
   "source": [
    "#Install lazypredict\n",
    "#%pip install lazypredict"
   ]
  },
  {
   "cell_type": "code",
   "execution_count": 51,
   "id": "49a378ed",
   "metadata": {},
   "outputs": [],
   "source": [
    "#Import Lazypredict and all libraries\n",
    "import lazypredict\n",
    "from lazypredict.Supervised import LazyRegressor\n",
    "from sklearn.model_selection import train_test_split\n",
    "import os\n",
    "import pandas as pd\n",
    "import numpy as np"
   ]
  },
  {
   "cell_type": "code",
   "execution_count": 52,
   "id": "e9f3eb4b",
   "metadata": {},
   "outputs": [
    {
     "data": {
      "text/html": [
       "<div>\n",
       "<style scoped>\n",
       "    .dataframe tbody tr th:only-of-type {\n",
       "        vertical-align: middle;\n",
       "    }\n",
       "\n",
       "    .dataframe tbody tr th {\n",
       "        vertical-align: top;\n",
       "    }\n",
       "\n",
       "    .dataframe thead th {\n",
       "        text-align: right;\n",
       "    }\n",
       "</style>\n",
       "<table border=\"1\" class=\"dataframe\">\n",
       "  <thead>\n",
       "    <tr style=\"text-align: right;\">\n",
       "      <th></th>\n",
       "      <th>work_year</th>\n",
       "      <th>experience_level</th>\n",
       "      <th>employment_type</th>\n",
       "      <th>job_title</th>\n",
       "      <th>remote_ratio</th>\n",
       "      <th>company_location</th>\n",
       "      <th>company_size</th>\n",
       "    </tr>\n",
       "  </thead>\n",
       "  <tbody>\n",
       "    <tr>\n",
       "      <th>0</th>\n",
       "      <td>0</td>\n",
       "      <td>2</td>\n",
       "      <td>3</td>\n",
       "      <td>3</td>\n",
       "      <td>0</td>\n",
       "      <td>2</td>\n",
       "      <td>0</td>\n",
       "    </tr>\n",
       "    <tr>\n",
       "      <th>1</th>\n",
       "      <td>0</td>\n",
       "      <td>1</td>\n",
       "      <td>3</td>\n",
       "      <td>0</td>\n",
       "      <td>2</td>\n",
       "      <td>1</td>\n",
       "      <td>2</td>\n",
       "    </tr>\n",
       "    <tr>\n",
       "      <th>2</th>\n",
       "      <td>0</td>\n",
       "      <td>1</td>\n",
       "      <td>3</td>\n",
       "      <td>0</td>\n",
       "      <td>2</td>\n",
       "      <td>1</td>\n",
       "      <td>2</td>\n",
       "    </tr>\n",
       "    <tr>\n",
       "      <th>3</th>\n",
       "      <td>0</td>\n",
       "      <td>1</td>\n",
       "      <td>3</td>\n",
       "      <td>3</td>\n",
       "      <td>0</td>\n",
       "      <td>2</td>\n",
       "      <td>1</td>\n",
       "    </tr>\n",
       "    <tr>\n",
       "      <th>4</th>\n",
       "      <td>0</td>\n",
       "      <td>1</td>\n",
       "      <td>3</td>\n",
       "      <td>0</td>\n",
       "      <td>2</td>\n",
       "      <td>2</td>\n",
       "      <td>2</td>\n",
       "    </tr>\n",
       "  </tbody>\n",
       "</table>\n",
       "</div>"
      ],
      "text/plain": [
       "   work_year  experience_level  employment_type  job_title  remote_ratio  \\\n",
       "0          0                 2                3          3             0   \n",
       "1          0                 1                3          0             2   \n",
       "2          0                 1                3          0             2   \n",
       "3          0                 1                3          3             0   \n",
       "4          0                 1                3          0             2   \n",
       "\n",
       "   company_location  company_size  \n",
       "0                 2             0  \n",
       "1                 1             2  \n",
       "2                 1             2  \n",
       "3                 2             1  \n",
       "4                 2             2  "
      ]
     },
     "execution_count": 52,
     "metadata": {},
     "output_type": "execute_result"
    }
   ],
   "source": [
    "testeo.head()"
   ]
  },
  {
   "cell_type": "code",
   "execution_count": 53,
   "id": "ae83dbf9",
   "metadata": {},
   "outputs": [
    {
     "data": {
      "text/html": [
       "<div>\n",
       "<style scoped>\n",
       "    .dataframe tbody tr th:only-of-type {\n",
       "        vertical-align: middle;\n",
       "    }\n",
       "\n",
       "    .dataframe tbody tr th {\n",
       "        vertical-align: top;\n",
       "    }\n",
       "\n",
       "    .dataframe thead th {\n",
       "        text-align: right;\n",
       "    }\n",
       "</style>\n",
       "<table border=\"1\" class=\"dataframe\">\n",
       "  <thead>\n",
       "    <tr style=\"text-align: right;\">\n",
       "      <th></th>\n",
       "      <th>work_year</th>\n",
       "      <th>experience_level</th>\n",
       "      <th>employment_type</th>\n",
       "      <th>job_title</th>\n",
       "      <th>salary_in_usd</th>\n",
       "      <th>remote_ratio</th>\n",
       "      <th>company_location</th>\n",
       "      <th>company_size</th>\n",
       "    </tr>\n",
       "  </thead>\n",
       "  <tbody>\n",
       "    <tr>\n",
       "      <th>0</th>\n",
       "      <td>2</td>\n",
       "      <td>2</td>\n",
       "      <td>3</td>\n",
       "      <td>1</td>\n",
       "      <td>0</td>\n",
       "      <td>2</td>\n",
       "      <td>1</td>\n",
       "      <td>1</td>\n",
       "    </tr>\n",
       "    <tr>\n",
       "      <th>1</th>\n",
       "      <td>2</td>\n",
       "      <td>2</td>\n",
       "      <td>3</td>\n",
       "      <td>1</td>\n",
       "      <td>0</td>\n",
       "      <td>2</td>\n",
       "      <td>1</td>\n",
       "      <td>1</td>\n",
       "    </tr>\n",
       "    <tr>\n",
       "      <th>2</th>\n",
       "      <td>1</td>\n",
       "      <td>1</td>\n",
       "      <td>3</td>\n",
       "      <td>0</td>\n",
       "      <td>0</td>\n",
       "      <td>2</td>\n",
       "      <td>1</td>\n",
       "      <td>1</td>\n",
       "    </tr>\n",
       "    <tr>\n",
       "      <th>3</th>\n",
       "      <td>1</td>\n",
       "      <td>1</td>\n",
       "      <td>1</td>\n",
       "      <td>3</td>\n",
       "      <td>1</td>\n",
       "      <td>2</td>\n",
       "      <td>1</td>\n",
       "      <td>2</td>\n",
       "    </tr>\n",
       "    <tr>\n",
       "      <th>4</th>\n",
       "      <td>1</td>\n",
       "      <td>1</td>\n",
       "      <td>3</td>\n",
       "      <td>1</td>\n",
       "      <td>-1</td>\n",
       "      <td>0</td>\n",
       "      <td>1</td>\n",
       "      <td>2</td>\n",
       "    </tr>\n",
       "  </tbody>\n",
       "</table>\n",
       "</div>"
      ],
      "text/plain": [
       "   work_year  experience_level  employment_type  job_title  salary_in_usd  \\\n",
       "0          2                 2                3          1              0   \n",
       "1          2                 2                3          1              0   \n",
       "2          1                 1                3          0              0   \n",
       "3          1                 1                1          3              1   \n",
       "4          1                 1                3          1             -1   \n",
       "\n",
       "   remote_ratio  company_location  company_size  \n",
       "0             2                 1             1  \n",
       "1             2                 1             1  \n",
       "2             2                 1             1  \n",
       "3             2                 1             2  \n",
       "4             0                 1             2  "
      ]
     },
     "execution_count": 53,
     "metadata": {},
     "output_type": "execute_result"
    }
   ],
   "source": [
    "salary.head()"
   ]
  },
  {
   "cell_type": "code",
   "execution_count": 54,
   "id": "d9b2996d",
   "metadata": {},
   "outputs": [],
   "source": [
    "salary_x=salary.drop('salary_in_usd', axis=1)\n",
    "salary_y=salary.salary_in_usd"
   ]
  },
  {
   "cell_type": "code",
   "execution_count": 55,
   "id": "7cd071af",
   "metadata": {},
   "outputs": [],
   "source": [
    "from sklearn.model_selection import train_test_split as tts"
   ]
  },
  {
   "cell_type": "code",
   "execution_count": 56,
   "id": "b5258eba",
   "metadata": {},
   "outputs": [],
   "source": [
    "X_train, X_test, y_train, y_test = tts(salary_x, salary_y,train_size=0.9, test_size=0.1,random_state =42)"
   ]
  },
  {
   "cell_type": "code",
   "execution_count": 57,
   "id": "516f25da",
   "metadata": {},
   "outputs": [
    {
     "name": "stderr",
     "output_type": "stream",
     "text": [
      "100%|███████████████████████████████████████████| 42/42 [00:01<00:00, 26.36it/s]\n"
     ]
    }
   ],
   "source": [
    "lazy = LazyRegressor(verbose=0,ignore_warnings=True, custom_metric=None)\n",
    "models, predictions = lazy.fit(X_train, X_test, y_train, y_test)"
   ]
  },
  {
   "cell_type": "code",
   "execution_count": 58,
   "id": "d79a7ccf",
   "metadata": {},
   "outputs": [
    {
     "name": "stdout",
     "output_type": "stream",
     "text": [
      "                               Adjusted R-Squared  R-Squared  RMSE  Time Taken\n",
      "Model                                                                         \n",
      "KNeighborsRegressor                          0.06       0.20  0.45        0.01\n",
      "LGBMRegressor                                0.06       0.19  0.45        0.14\n",
      "HistGradientBoostingRegressor                0.06       0.19  0.45        0.10\n",
      "TweedieRegressor                             0.05       0.18  0.46        0.00\n",
      "BaggingRegressor                             0.02       0.16  0.46        0.02\n",
      "MLPRegressor                                -0.00       0.14  0.47        0.18\n",
      "NuSVR                                       -0.01       0.14  0.47        0.02\n",
      "AdaBoostRegressor                           -0.01       0.14  0.47        0.03\n",
      "OrthogonalMatchingPursuit                   -0.01       0.14  0.47        0.00\n",
      "GradientBoostingRegressor                   -0.01       0.13  0.47        0.02\n",
      "SVR                                         -0.02       0.13  0.47        0.02\n",
      "RandomForestRegressor                       -0.04       0.11  0.48        0.07\n",
      "LassoLarsCV                                 -0.08       0.08  0.49        0.01\n",
      "LarsCV                                      -0.08       0.08  0.49        0.01\n",
      "ElasticNetCV                                -0.08       0.08  0.49        0.02\n",
      "LassoCV                                     -0.08       0.07  0.49        0.02\n",
      "BayesianRidge                               -0.10       0.06  0.49        0.01\n",
      "RidgeCV                                     -0.10       0.06  0.49        0.01\n",
      "SGDRegressor                                -0.11       0.05  0.49        0.00\n",
      "KernelRidge                                 -0.11       0.05  0.49        0.01\n",
      "OrthogonalMatchingPursuitCV                 -0.11       0.05  0.49        0.01\n",
      "Ridge                                       -0.11       0.04  0.49        0.00\n",
      "TransformedTargetRegressor                  -0.12       0.04  0.50        0.00\n",
      "LinearRegression                            -0.12       0.04  0.50        0.00\n",
      "Lars                                        -0.12       0.04  0.50        0.00\n",
      "LassoLarsIC                                 -0.12       0.04  0.50        0.00\n",
      "LinearSVR                                   -0.12       0.04  0.50        0.01\n",
      "HuberRegressor                              -0.14       0.02  0.50        0.01\n",
      "XGBRegressor                                -0.17      -0.01  0.51        0.16\n",
      "ExtraTreeRegressor                          -0.18      -0.01  0.51        0.00\n",
      "QuantileRegressor                           -0.18      -0.01  0.51        0.56\n",
      "DummyRegressor                              -0.19      -0.02  0.51        0.00\n",
      "ElasticNet                                  -0.19      -0.02  0.51        0.00\n",
      "LassoLars                                   -0.19      -0.02  0.51        0.00\n",
      "Lasso                                       -0.19      -0.02  0.51        0.00\n",
      "GaussianProcessRegressor                    -0.20      -0.03  0.51        0.02\n",
      "ExtraTreesRegressor                         -0.26      -0.08  0.53        0.06\n",
      "DecisionTreeRegressor                       -0.40      -0.20  0.56        0.00\n",
      "PassiveAggressiveRegressor                  -0.79      -0.53  0.63        0.00\n",
      "RANSACRegressor                             -7.78      -6.53  1.39        0.02\n"
     ]
    }
   ],
   "source": [
    "print(models)"
   ]
  },
  {
   "cell_type": "code",
   "execution_count": null,
   "id": "2fca9369",
   "metadata": {},
   "outputs": [],
   "source": [
    "# X_train, X_test, y_train, y_test = tts(salary_x, salary_y, train_size=0.8, test_size=0.2, random_state=50)\n",
    "\n",
    "# X_train.shape, X_test.shape, y_train.shape, y_test.shape"
   ]
  },
  {
   "cell_type": "markdown",
   "id": "916c60ef",
   "metadata": {},
   "source": [
    "%pip install xgboost\n",
    "%pip install catboost\n",
    "%pip install lightgbm"
   ]
  },
  {
   "cell_type": "code",
   "execution_count": null,
   "id": "cb4c4bb5",
   "metadata": {},
   "outputs": [],
   "source": [
    "from sklearn.linear_model import LinearRegression as LinReg\n",
    "from sklearn.linear_model import Lasso        # regularizacion L1\n",
    "from sklearn.linear_model import Ridge        # regularizacion L2\n",
    "from sklearn.linear_model import ElasticNet\n",
    "from sklearn.svm import SVR\n",
    "from sklearn.ensemble import RandomForestRegressor as RFR  \n",
    "from sklearn.tree import ExtraTreeRegressor as ETR\n",
    "from sklearn.ensemble import GradientBoostingRegressor as GBR\n",
    "from xgboost import XGBRegressor as XGBR\n",
    "from catboost import CatBoostRegressor as CTR"
   ]
  },
  {
   "cell_type": "code",
   "execution_count": null,
   "id": "6abd78ff",
   "metadata": {},
   "outputs": [],
   "source": [
    "from lightgbm import LGBMRegressor as LGBMR"
   ]
  },
  {
   "cell_type": "code",
   "execution_count": null,
   "id": "1be607dc",
   "metadata": {},
   "outputs": [],
   "source": [
    "# se inician los modelos\n",
    "linreg=LinReg()\n",
    "lasso=Lasso()\n",
    "ridge=Ridge()\n",
    "elastic=ElasticNet()\n",
    "svr=SVR()\n",
    "rfr=RFR()\n",
    "etr=ETR()\n",
    "gbr=GBR()\n",
    "xgbr=XGBR()\n",
    "ctr=CTR()\n",
    "lgbmr=LGBMR()"
   ]
  },
  {
   "cell_type": "code",
   "execution_count": null,
   "id": "5de59ec3",
   "metadata": {},
   "outputs": [],
   "source": [
    "#crear columna con las medias de los salarios por pais. ponderacion"
   ]
  },
  {
   "cell_type": "markdown",
   "id": "d363e919",
   "metadata": {},
   "source": [
    "**Entrenamos modelos**"
   ]
  },
  {
   "cell_type": "code",
   "execution_count": null,
   "id": "b65d672c",
   "metadata": {},
   "outputs": [],
   "source": [
    "linreg.fit(X_train, y_train)\n",
    "lasso.fit(X_train, y_train)\n",
    "ridge.fit(X_train, y_train)\n",
    "elastic.fit(X_train, y_train)\n",
    "svr.fit(X_train, y_train)\n",
    "rfr.fit(X_train, y_train)\n",
    "etr.fit(X_train, y_train)\n",
    "gbr.fit(X_train, y_train)\n",
    "xgbr.fit(X_train, y_train)\n",
    "ctr.fit(X_train, y_train)\n",
    "lgbmr.fit(X_train, y_train)"
   ]
  },
  {
   "cell_type": "markdown",
   "id": "067f7871",
   "metadata": {},
   "source": [
    "**Prediccion**"
   ]
  },
  {
   "cell_type": "code",
   "execution_count": null,
   "id": "2ab1429c",
   "metadata": {},
   "outputs": [],
   "source": [
    "y_pred_lineal=linreg.predict(X_test)"
   ]
  },
  {
   "cell_type": "code",
   "execution_count": null,
   "id": "e74ca4c6",
   "metadata": {},
   "outputs": [],
   "source": [
    "y_pred_lasso=lasso.predict(X_test)"
   ]
  },
  {
   "cell_type": "code",
   "execution_count": null,
   "id": "43db2475",
   "metadata": {},
   "outputs": [],
   "source": [
    "y_pred_ridge=ridge.predict(X_test)"
   ]
  },
  {
   "cell_type": "code",
   "execution_count": null,
   "id": "16ea61fa",
   "metadata": {},
   "outputs": [],
   "source": [
    "y_pred_elastic=elastic.predict(X_test)"
   ]
  },
  {
   "cell_type": "code",
   "execution_count": null,
   "id": "c7add990",
   "metadata": {},
   "outputs": [],
   "source": [
    "y_pred_svr=svr.predict(X_test)"
   ]
  },
  {
   "cell_type": "code",
   "execution_count": null,
   "id": "29ae4cea",
   "metadata": {},
   "outputs": [],
   "source": [
    "y_pred_rfr=rfr.predict(X_test)"
   ]
  },
  {
   "cell_type": "code",
   "execution_count": null,
   "id": "82d263b3",
   "metadata": {},
   "outputs": [],
   "source": [
    "y_pred_etr=etr.predict(X_test)"
   ]
  },
  {
   "cell_type": "code",
   "execution_count": null,
   "id": "e9fa3708",
   "metadata": {},
   "outputs": [],
   "source": [
    "y_pred_gbr=gbr.predict(X_test)"
   ]
  },
  {
   "cell_type": "code",
   "execution_count": null,
   "id": "52457d05",
   "metadata": {},
   "outputs": [],
   "source": [
    "y_pred_xgbr=xgbr.predict(X_test)"
   ]
  },
  {
   "cell_type": "code",
   "execution_count": null,
   "id": "d49cdff4",
   "metadata": {},
   "outputs": [],
   "source": [
    "y_pred_ctr=ctr.predict(X_test)"
   ]
  },
  {
   "cell_type": "code",
   "execution_count": null,
   "id": "ed1c0698",
   "metadata": {},
   "outputs": [],
   "source": [
    "y_pred_lgbmr=lgbmr.predict(X_test)"
   ]
  },
  {
   "cell_type": "markdown",
   "id": "04e6902d",
   "metadata": {},
   "source": [
    "**evaluación**"
   ]
  },
  {
   "cell_type": "code",
   "execution_count": null,
   "id": "9cb875d4",
   "metadata": {},
   "outputs": [],
   "source": [
    "from sklearn.metrics import mean_squared_error as mse"
   ]
  },
  {
   "cell_type": "code",
   "execution_count": null,
   "id": "0ffd7677",
   "metadata": {},
   "outputs": [],
   "source": [
    "# regresion lineal\n",
    "\n",
    "y_pred=linreg.predict(X_test)\n",
    "\n",
    "mse(y_test, y_pred, squared=False)"
   ]
  },
  {
   "cell_type": "code",
   "execution_count": null,
   "id": "34d2206c",
   "metadata": {},
   "outputs": [],
   "source": [
    "# lasso\n",
    "\n",
    "y_pred=lasso.predict(X_test)\n",
    "\n",
    "mse(y_test, y_pred, squared=False) "
   ]
  },
  {
   "cell_type": "code",
   "execution_count": null,
   "id": "ff9be9b2",
   "metadata": {},
   "outputs": [],
   "source": [
    "# ridge\n",
    "\n",
    "y_pred=ridge.predict(X_test)\n",
    "\n",
    "mse(y_test, y_pred, squared=False)"
   ]
  },
  {
   "cell_type": "code",
   "execution_count": null,
   "id": "327c8443",
   "metadata": {},
   "outputs": [],
   "source": [
    "# elastic\n",
    "\n",
    "y_pred=elastic.predict(X_test)\n",
    "\n",
    "mse(y_test, y_pred, squared=False)"
   ]
  },
  {
   "cell_type": "code",
   "execution_count": null,
   "id": "9fc86399",
   "metadata": {},
   "outputs": [],
   "source": [
    "# svr\n",
    "\n",
    "y_pred=svr.predict(X_test)\n",
    "\n",
    "mse(y_test, y_pred, squared=False)  # RMSE"
   ]
  },
  {
   "cell_type": "code",
   "execution_count": null,
   "id": "08e382cc",
   "metadata": {},
   "outputs": [],
   "source": [
    "# rfr\n",
    "\n",
    "y_pred=rfr.predict(X_test)\n",
    "\n",
    "mse(y_test, y_pred, squared=False)  # RMSE"
   ]
  },
  {
   "cell_type": "code",
   "execution_count": null,
   "id": "1dd72451",
   "metadata": {},
   "outputs": [],
   "source": [
    "# etr\n",
    "\n",
    "y_pred=etr.predict(X_test)\n",
    "\n",
    "mse(y_test, y_pred, squared=False)  # RMSE"
   ]
  },
  {
   "cell_type": "code",
   "execution_count": null,
   "id": "a0b53a2a",
   "metadata": {},
   "outputs": [],
   "source": [
    "#gbr\n",
    "y_pred=gbr.predict(X_test)\n",
    "\n",
    "mse(y_test, y_pred, squared=False)  "
   ]
  },
  {
   "cell_type": "code",
   "execution_count": null,
   "id": "f5ea415d",
   "metadata": {},
   "outputs": [],
   "source": [
    "#gbr\n",
    "y_pred=gbr.predict(salary_x)\n",
    "\n",
    "mse(salary_y, y_pred, squared=False)  "
   ]
  },
  {
   "cell_type": "code",
   "execution_count": null,
   "id": "00000fac",
   "metadata": {},
   "outputs": [],
   "source": [
    "#xgbr\n",
    "\n",
    "y_pred=xgbr.predict(X_test)\n",
    "\n",
    "mse(y_test, y_pred, squared=False)  # RMSE"
   ]
  },
  {
   "cell_type": "code",
   "execution_count": null,
   "id": "63a8420e",
   "metadata": {},
   "outputs": [],
   "source": [
    "#ctr\n",
    "y_pred=ctr.predict(X_test)\n",
    "\n",
    "mse(y_test, y_pred, squared=False)  # RMSE"
   ]
  },
  {
   "cell_type": "code",
   "execution_count": null,
   "id": "41fdd7f4",
   "metadata": {},
   "outputs": [],
   "source": [
    "#lgbmr\n",
    "y_pred=lgbmr.predict(X_test)\n",
    "\n",
    "mse(y_test, y_pred, squared=False)  # RMSE"
   ]
  },
  {
   "cell_type": "markdown",
   "id": "d8742adf",
   "metadata": {},
   "source": [
    "**Lo llevo al archivo Testeo**"
   ]
  },
  {
   "cell_type": "code",
   "execution_count": null,
   "id": "a6e992f2",
   "metadata": {},
   "outputs": [],
   "source": [
    "y_test.info()"
   ]
  },
  {
   "cell_type": "code",
   "execution_count": null,
   "id": "7404745b",
   "metadata": {},
   "outputs": [],
   "source": [
    "testeo.info()"
   ]
  },
  {
   "cell_type": "code",
   "execution_count": null,
   "id": "be46c37d",
   "metadata": {},
   "outputs": [],
   "source": [
    "pred_lin=linreg.predict(testeo)"
   ]
  },
  {
   "cell_type": "code",
   "execution_count": null,
   "id": "9e8fad57",
   "metadata": {},
   "outputs": [],
   "source": [
    "pred_las=lasso.predict(testeo)"
   ]
  },
  {
   "cell_type": "code",
   "execution_count": null,
   "id": "5998b4aa",
   "metadata": {},
   "outputs": [],
   "source": [
    "pred_las=pd.DataFrame(pred_las, columns=['salary_in_usd'])\n",
    "pred_las.to_csv('lasso.csv',index_label='id')"
   ]
  },
  {
   "cell_type": "code",
   "execution_count": null,
   "id": "c3e33438",
   "metadata": {},
   "outputs": [],
   "source": [
    "pred_rid=ridge.predict(testeo)"
   ]
  },
  {
   "cell_type": "code",
   "execution_count": null,
   "id": "17570fe5",
   "metadata": {},
   "outputs": [],
   "source": [
    "pred_rid=pd.DataFrame(pred_rid, columns=['salary_in_usd'])\n",
    "pred_rid.to_csv('rid.csv',index_label='id')"
   ]
  },
  {
   "cell_type": "code",
   "execution_count": null,
   "id": "22218777",
   "metadata": {},
   "outputs": [],
   "source": []
  },
  {
   "cell_type": "code",
   "execution_count": null,
   "id": "f6801f3e",
   "metadata": {},
   "outputs": [],
   "source": [
    "pred_elas=elastic.predict(testeo)"
   ]
  },
  {
   "cell_type": "code",
   "execution_count": null,
   "id": "f7e09d42",
   "metadata": {},
   "outputs": [],
   "source": [
    "pred_svr=svr.predict(testeo)"
   ]
  },
  {
   "cell_type": "code",
   "execution_count": null,
   "id": "8e9e4313",
   "metadata": {},
   "outputs": [],
   "source": [
    "pred_svr=pd.DataFrame(pred_svr, columns=['salary_in_usd'])\n",
    "pred_svr.to_csv('svr.csv',index_label='id')"
   ]
  },
  {
   "cell_type": "code",
   "execution_count": null,
   "id": "53391b64",
   "metadata": {},
   "outputs": [],
   "source": [
    "pred_rfr=rfr.predict(testeo)"
   ]
  },
  {
   "cell_type": "code",
   "execution_count": null,
   "id": "021e9124",
   "metadata": {},
   "outputs": [],
   "source": [
    "pred_etr=etr.predict(testeo)"
   ]
  },
  {
   "cell_type": "code",
   "execution_count": null,
   "id": "3e9f8e3e",
   "metadata": {},
   "outputs": [],
   "source": [
    "pred_gbr=gbr.predict(testeo)"
   ]
  },
  {
   "cell_type": "code",
   "execution_count": null,
   "id": "880e87d2",
   "metadata": {},
   "outputs": [],
   "source": [
    "pred_gbr=pd.DataFrame(pred_gbr, columns=['salary_in_usd'])\n",
    "pred_gbr.to_csv('gbr.csv',index_label='id')"
   ]
  },
  {
   "cell_type": "code",
   "execution_count": null,
   "id": "5148f058",
   "metadata": {},
   "outputs": [],
   "source": [
    "pred_xgbr=xgbr.predict(testeo)"
   ]
  },
  {
   "cell_type": "code",
   "execution_count": null,
   "id": "d57468d7",
   "metadata": {},
   "outputs": [],
   "source": [
    "pred_ctr=ctr.predict(testeo)"
   ]
  },
  {
   "cell_type": "code",
   "execution_count": null,
   "id": "1d4c1c9d",
   "metadata": {},
   "outputs": [],
   "source": [
    "pred_lgbmr=lgbmr.predict(testeo)"
   ]
  }
 ],
 "metadata": {
  "kernelspec": {
   "display_name": "Python 3 (ipykernel)",
   "language": "python",
   "name": "python3"
  },
  "language_info": {
   "codemirror_mode": {
    "name": "ipython",
    "version": 3
   },
   "file_extension": ".py",
   "mimetype": "text/x-python",
   "name": "python",
   "nbconvert_exporter": "python",
   "pygments_lexer": "ipython3",
   "version": "3.9.12"
  }
 },
 "nbformat": 4,
 "nbformat_minor": 5
}
